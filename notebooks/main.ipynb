{
 "cells": [
  {
   "cell_type": "markdown",
   "metadata": {
    "id": "secTRPxvbz8Z"
   },
   "source": [
    "## Свой GAN на полносвязных слоях"
   ]
  },
  {
   "cell_type": "code",
   "execution_count": 10,
   "metadata": {},
   "outputs": [
    {
     "name": "stdout",
     "output_type": "stream",
     "text": [
      "Requirement already satisfied: websocket-client in /usr/local/lib/python3.8/dist-packages (1.3.1)\n",
      "Requirement already satisfied: torch in /usr/local/lib/python3.8/dist-packages (1.11.0)\n",
      "Requirement already satisfied: torchvision in /usr/local/lib/python3.8/dist-packages (0.12.0)\n",
      "Requirement already satisfied: sklearn in /usr/local/lib/python3.8/dist-packages (0.0)\n",
      "Requirement already satisfied: typing-extensions in /usr/local/lib/python3.8/dist-packages (from torch) (4.1.1)\n",
      "Requirement already satisfied: numpy in /usr/local/lib/python3.8/dist-packages (from torchvision) (1.22.2)\n",
      "Requirement already satisfied: requests in /usr/local/lib/python3.8/dist-packages/requests-2.25.1-py3.8.egg (from torchvision) (2.25.1)\n",
      "Requirement already satisfied: pillow!=8.3.*,>=5.3.0 in /usr/lib/python3/dist-packages (from torchvision) (7.0.0)\n",
      "Requirement already satisfied: scikit-learn in /usr/local/lib/python3.8/dist-packages (from sklearn) (1.0.2)\n",
      "Requirement already satisfied: certifi>=2017.4.17 in /usr/lib/python3/dist-packages (from requests->torchvision) (2019.11.28)\n",
      "Requirement already satisfied: chardet<5,>=3.0.2 in /usr/lib/python3/dist-packages (from requests->torchvision) (3.0.4)\n",
      "Requirement already satisfied: idna<3,>=2.5 in /usr/lib/python3/dist-packages (from requests->torchvision) (2.8)\n",
      "Requirement already satisfied: urllib3<1.27,>=1.21.1 in /usr/lib/python3/dist-packages (from requests->torchvision) (1.25.8)\n",
      "Requirement already satisfied: scipy>=1.1.0 in /usr/local/lib/python3.8/dist-packages (from scikit-learn->sklearn) (1.8.0)\n",
      "Requirement already satisfied: threadpoolctl>=2.0.0 in /usr/local/lib/python3.8/dist-packages (from scikit-learn->sklearn) (3.1.0)\n",
      "Requirement already satisfied: joblib>=0.11 in /usr/local/lib/python3.8/dist-packages (from scikit-learn->sklearn) (1.1.0)\n"
     ]
    }
   ],
   "source": [
    "!pip3 install websocket-client torch torchvision sklearn"
   ]
  },
  {
   "cell_type": "code",
   "execution_count": 12,
   "metadata": {
    "execution": {
     "iopub.execute_input": "2022-03-11T19:05:01.57228Z",
     "iopub.status.busy": "2022-03-11T19:05:01.571985Z",
     "iopub.status.idle": "2022-03-11T19:05:03.921412Z",
     "shell.execute_reply": "2022-03-11T19:05:03.920685Z",
     "shell.execute_reply.started": "2022-03-11T19:05:01.572205Z"
    },
    "id": "1vhy3bG1EZck"
   },
   "outputs": [],
   "source": [
    "import torch\n",
    "from matplotlib import pyplot as plt\n",
    "from sklearn.datasets import load_digits\n",
    "from torch import optim\n",
    "import torch.nn.functional as F\n",
    "import torch.nn as nn\n",
    "from torch.utils import data\n",
    "import numpy as np\n",
    "from IPython.display import clear_output\n",
    "from torchvision import datasets, transforms"
   ]
  },
  {
   "cell_type": "markdown",
   "metadata": {
    "id": "BobWiueAbu31"
   },
   "source": [
    "1) Считать FashionMNIST и создать DataLoader"
   ]
  },
  {
   "cell_type": "code",
   "execution_count": 16,
   "metadata": {
    "execution": {
     "iopub.execute_input": "2022-03-11T19:05:03.92327Z",
     "iopub.status.busy": "2022-03-11T19:05:03.923029Z",
     "iopub.status.idle": "2022-03-11T19:05:11.35785Z",
     "shell.execute_reply": "2022-03-11T19:05:11.356999Z",
     "shell.execute_reply.started": "2022-03-11T19:05:03.923236Z"
    },
    "id": "lbmA-8RJh2rb"
   },
   "outputs": [],
   "source": [
    "import torch\n",
    "import torch.nn as nn\n",
    "from torch import optim\n",
    "from torch.nn import MSELoss\n",
    "import torch.nn.functional as F\n",
    "\n",
    "from torchvision import transforms\n",
    "from torch.utils.data import DataLoader\n",
    "from torchvision.datasets import FashionMNIST\n",
    "\n",
    "from sklearn.metrics import accuracy_score\n",
    "\n",
    "\n",
    "IMG_SIZE = 64\n",
    "\n",
    "ds_train = datasets.ImageFolder(\"/run/user/1000/gvfs/smb-share:domain=WORKGROUP,server=192.168.1.81,share=pavel,user=pavtiger/Code/NASA/perseverance/data\", transform=transforms.Compose([\n",
    "    transforms.Resize((IMG_SIZE, IMG_SIZE)),\n",
    "#     transforms.RandomHorizontalFlip(0.2),\n",
    "#     transforms.RandomPerspective(0.2, 0.2),\n",
    "    transforms.ToTensor()\n",
    "]))\n",
    "\n",
    "N = 32\n",
    "train_loader = DataLoader(ds_train, batch_size=N)"
   ]
  },
  {
   "cell_type": "markdown",
   "metadata": {
    "id": "j7DZhI8Rb6_y"
   },
   "source": [
    "2) Создайте две сети: \n",
    "- Генератор решает задачу регрессии, предсказывая по вектору шума пиксели картинки (размер шума можно сделать параметром)\n",
    "- Дискриминатор по картинке предсказывает её класс, фейк\\не фейк (0\\1)\n",
    "\n",
    "В целом, для адекватной генерации должно хватить трёх слоёв и там и там\n"
   ]
  },
  {
   "cell_type": "code",
   "execution_count": 17,
   "metadata": {
    "execution": {
     "iopub.execute_input": "2022-03-11T19:05:11.359557Z",
     "iopub.status.busy": "2022-03-11T19:05:11.359197Z",
     "iopub.status.idle": "2022-03-11T19:05:14.439967Z",
     "shell.execute_reply": "2022-03-11T19:05:14.439174Z",
     "shell.execute_reply.started": "2022-03-11T19:05:11.359517Z"
    },
    "id": "fiUex1qBEm1C"
   },
   "outputs": [
    {
     "ename": "RuntimeError",
     "evalue": "Found no NVIDIA driver on your system. Please check that you have an NVIDIA GPU and installed a driver from http://www.nvidia.com/Download/index.aspx",
     "output_type": "error",
     "traceback": [
      "\u001b[0;31m---------------------------------------------------------------------------\u001b[0m",
      "\u001b[0;31mRuntimeError\u001b[0m                              Traceback (most recent call last)",
      "\u001b[0;32m<ipython-input-17-412d9e6c6fea>\u001b[0m in \u001b[0;36m<module>\u001b[0;34m\u001b[0m\n\u001b[1;32m      3\u001b[0m \u001b[0mD\u001b[0m \u001b[0;34m=\u001b[0m \u001b[0;36m10\u001b[0m\u001b[0;34m\u001b[0m\u001b[0;34m\u001b[0m\u001b[0m\n\u001b[1;32m      4\u001b[0m \u001b[0;34m\u001b[0m\u001b[0m\n\u001b[0;32m----> 5\u001b[0;31m gen = nn.Sequential(\n\u001b[0m\u001b[1;32m      6\u001b[0m     \u001b[0mnn\u001b[0m\u001b[0;34m.\u001b[0m\u001b[0mLinear\u001b[0m\u001b[0;34m(\u001b[0m\u001b[0mD\u001b[0m\u001b[0;34m,\u001b[0m \u001b[0mIMG_SIZE\u001b[0m\u001b[0;34m**\u001b[0m\u001b[0;36m2\u001b[0m\u001b[0;34m)\u001b[0m\u001b[0;34m,\u001b[0m\u001b[0;34m\u001b[0m\u001b[0;34m\u001b[0m\u001b[0m\n\u001b[1;32m      7\u001b[0m     \u001b[0mnn\u001b[0m\u001b[0;34m.\u001b[0m\u001b[0mLeakyReLU\u001b[0m\u001b[0;34m(\u001b[0m\u001b[0;36m0.1\u001b[0m\u001b[0;34m)\u001b[0m\u001b[0;34m,\u001b[0m\u001b[0;34m\u001b[0m\u001b[0;34m\u001b[0m\u001b[0m\n",
      "\u001b[0;32m/usr/local/lib/python3.8/dist-packages/torch/nn/modules/module.py\u001b[0m in \u001b[0;36mcuda\u001b[0;34m(self, device)\u001b[0m\n\u001b[1;32m    686\u001b[0m             \u001b[0mModule\u001b[0m\u001b[0;34m:\u001b[0m \u001b[0mself\u001b[0m\u001b[0;34m\u001b[0m\u001b[0;34m\u001b[0m\u001b[0m\n\u001b[1;32m    687\u001b[0m         \"\"\"\n\u001b[0;32m--> 688\u001b[0;31m         \u001b[0;32mreturn\u001b[0m \u001b[0mself\u001b[0m\u001b[0;34m.\u001b[0m\u001b[0m_apply\u001b[0m\u001b[0;34m(\u001b[0m\u001b[0;32mlambda\u001b[0m \u001b[0mt\u001b[0m\u001b[0;34m:\u001b[0m \u001b[0mt\u001b[0m\u001b[0;34m.\u001b[0m\u001b[0mcuda\u001b[0m\u001b[0;34m(\u001b[0m\u001b[0mdevice\u001b[0m\u001b[0;34m)\u001b[0m\u001b[0;34m)\u001b[0m\u001b[0;34m\u001b[0m\u001b[0;34m\u001b[0m\u001b[0m\n\u001b[0m\u001b[1;32m    689\u001b[0m \u001b[0;34m\u001b[0m\u001b[0m\n\u001b[1;32m    690\u001b[0m     \u001b[0;32mdef\u001b[0m \u001b[0mxpu\u001b[0m\u001b[0;34m(\u001b[0m\u001b[0mself\u001b[0m\u001b[0;34m:\u001b[0m \u001b[0mT\u001b[0m\u001b[0;34m,\u001b[0m \u001b[0mdevice\u001b[0m\u001b[0;34m:\u001b[0m \u001b[0mOptional\u001b[0m\u001b[0;34m[\u001b[0m\u001b[0mUnion\u001b[0m\u001b[0;34m[\u001b[0m\u001b[0mint\u001b[0m\u001b[0;34m,\u001b[0m \u001b[0mdevice\u001b[0m\u001b[0;34m]\u001b[0m\u001b[0;34m]\u001b[0m \u001b[0;34m=\u001b[0m \u001b[0;32mNone\u001b[0m\u001b[0;34m)\u001b[0m \u001b[0;34m->\u001b[0m \u001b[0mT\u001b[0m\u001b[0;34m:\u001b[0m\u001b[0;34m\u001b[0m\u001b[0;34m\u001b[0m\u001b[0m\n",
      "\u001b[0;32m/usr/local/lib/python3.8/dist-packages/torch/nn/modules/module.py\u001b[0m in \u001b[0;36m_apply\u001b[0;34m(self, fn)\u001b[0m\n\u001b[1;32m    576\u001b[0m     \u001b[0;32mdef\u001b[0m \u001b[0m_apply\u001b[0m\u001b[0;34m(\u001b[0m\u001b[0mself\u001b[0m\u001b[0;34m,\u001b[0m \u001b[0mfn\u001b[0m\u001b[0;34m)\u001b[0m\u001b[0;34m:\u001b[0m\u001b[0;34m\u001b[0m\u001b[0;34m\u001b[0m\u001b[0m\n\u001b[1;32m    577\u001b[0m         \u001b[0;32mfor\u001b[0m \u001b[0mmodule\u001b[0m \u001b[0;32min\u001b[0m \u001b[0mself\u001b[0m\u001b[0;34m.\u001b[0m\u001b[0mchildren\u001b[0m\u001b[0;34m(\u001b[0m\u001b[0;34m)\u001b[0m\u001b[0;34m:\u001b[0m\u001b[0;34m\u001b[0m\u001b[0;34m\u001b[0m\u001b[0m\n\u001b[0;32m--> 578\u001b[0;31m             \u001b[0mmodule\u001b[0m\u001b[0;34m.\u001b[0m\u001b[0m_apply\u001b[0m\u001b[0;34m(\u001b[0m\u001b[0mfn\u001b[0m\u001b[0;34m)\u001b[0m\u001b[0;34m\u001b[0m\u001b[0;34m\u001b[0m\u001b[0m\n\u001b[0m\u001b[1;32m    579\u001b[0m \u001b[0;34m\u001b[0m\u001b[0m\n\u001b[1;32m    580\u001b[0m         \u001b[0;32mdef\u001b[0m \u001b[0mcompute_should_use_set_data\u001b[0m\u001b[0;34m(\u001b[0m\u001b[0mtensor\u001b[0m\u001b[0;34m,\u001b[0m \u001b[0mtensor_applied\u001b[0m\u001b[0;34m)\u001b[0m\u001b[0;34m:\u001b[0m\u001b[0;34m\u001b[0m\u001b[0;34m\u001b[0m\u001b[0m\n",
      "\u001b[0;32m/usr/local/lib/python3.8/dist-packages/torch/nn/modules/module.py\u001b[0m in \u001b[0;36m_apply\u001b[0;34m(self, fn)\u001b[0m\n\u001b[1;32m    599\u001b[0m             \u001b[0;31m# `with torch.no_grad():`\u001b[0m\u001b[0;34m\u001b[0m\u001b[0;34m\u001b[0m\u001b[0;34m\u001b[0m\u001b[0m\n\u001b[1;32m    600\u001b[0m             \u001b[0;32mwith\u001b[0m \u001b[0mtorch\u001b[0m\u001b[0;34m.\u001b[0m\u001b[0mno_grad\u001b[0m\u001b[0;34m(\u001b[0m\u001b[0;34m)\u001b[0m\u001b[0;34m:\u001b[0m\u001b[0;34m\u001b[0m\u001b[0;34m\u001b[0m\u001b[0m\n\u001b[0;32m--> 601\u001b[0;31m                 \u001b[0mparam_applied\u001b[0m \u001b[0;34m=\u001b[0m \u001b[0mfn\u001b[0m\u001b[0;34m(\u001b[0m\u001b[0mparam\u001b[0m\u001b[0;34m)\u001b[0m\u001b[0;34m\u001b[0m\u001b[0;34m\u001b[0m\u001b[0m\n\u001b[0m\u001b[1;32m    602\u001b[0m             \u001b[0mshould_use_set_data\u001b[0m \u001b[0;34m=\u001b[0m \u001b[0mcompute_should_use_set_data\u001b[0m\u001b[0;34m(\u001b[0m\u001b[0mparam\u001b[0m\u001b[0;34m,\u001b[0m \u001b[0mparam_applied\u001b[0m\u001b[0;34m)\u001b[0m\u001b[0;34m\u001b[0m\u001b[0;34m\u001b[0m\u001b[0m\n\u001b[1;32m    603\u001b[0m             \u001b[0;32mif\u001b[0m \u001b[0mshould_use_set_data\u001b[0m\u001b[0;34m:\u001b[0m\u001b[0;34m\u001b[0m\u001b[0;34m\u001b[0m\u001b[0m\n",
      "\u001b[0;32m/usr/local/lib/python3.8/dist-packages/torch/nn/modules/module.py\u001b[0m in \u001b[0;36m<lambda>\u001b[0;34m(t)\u001b[0m\n\u001b[1;32m    686\u001b[0m             \u001b[0mModule\u001b[0m\u001b[0;34m:\u001b[0m \u001b[0mself\u001b[0m\u001b[0;34m\u001b[0m\u001b[0;34m\u001b[0m\u001b[0m\n\u001b[1;32m    687\u001b[0m         \"\"\"\n\u001b[0;32m--> 688\u001b[0;31m         \u001b[0;32mreturn\u001b[0m \u001b[0mself\u001b[0m\u001b[0;34m.\u001b[0m\u001b[0m_apply\u001b[0m\u001b[0;34m(\u001b[0m\u001b[0;32mlambda\u001b[0m \u001b[0mt\u001b[0m\u001b[0;34m:\u001b[0m \u001b[0mt\u001b[0m\u001b[0;34m.\u001b[0m\u001b[0mcuda\u001b[0m\u001b[0;34m(\u001b[0m\u001b[0mdevice\u001b[0m\u001b[0;34m)\u001b[0m\u001b[0;34m)\u001b[0m\u001b[0;34m\u001b[0m\u001b[0;34m\u001b[0m\u001b[0m\n\u001b[0m\u001b[1;32m    689\u001b[0m \u001b[0;34m\u001b[0m\u001b[0m\n\u001b[1;32m    690\u001b[0m     \u001b[0;32mdef\u001b[0m \u001b[0mxpu\u001b[0m\u001b[0;34m(\u001b[0m\u001b[0mself\u001b[0m\u001b[0;34m:\u001b[0m \u001b[0mT\u001b[0m\u001b[0;34m,\u001b[0m \u001b[0mdevice\u001b[0m\u001b[0;34m:\u001b[0m \u001b[0mOptional\u001b[0m\u001b[0;34m[\u001b[0m\u001b[0mUnion\u001b[0m\u001b[0;34m[\u001b[0m\u001b[0mint\u001b[0m\u001b[0;34m,\u001b[0m \u001b[0mdevice\u001b[0m\u001b[0;34m]\u001b[0m\u001b[0;34m]\u001b[0m \u001b[0;34m=\u001b[0m \u001b[0;32mNone\u001b[0m\u001b[0;34m)\u001b[0m \u001b[0;34m->\u001b[0m \u001b[0mT\u001b[0m\u001b[0;34m:\u001b[0m\u001b[0;34m\u001b[0m\u001b[0;34m\u001b[0m\u001b[0m\n",
      "\u001b[0;32m/usr/local/lib/python3.8/dist-packages/torch/cuda/__init__.py\u001b[0m in \u001b[0;36m_lazy_init\u001b[0;34m()\u001b[0m\n\u001b[1;32m    214\u001b[0m         \u001b[0;31m# This function throws if there's a driver initialization error, no GPUs\u001b[0m\u001b[0;34m\u001b[0m\u001b[0;34m\u001b[0m\u001b[0;34m\u001b[0m\u001b[0m\n\u001b[1;32m    215\u001b[0m         \u001b[0;31m# are found or any other error occurs\u001b[0m\u001b[0;34m\u001b[0m\u001b[0;34m\u001b[0m\u001b[0;34m\u001b[0m\u001b[0m\n\u001b[0;32m--> 216\u001b[0;31m         \u001b[0mtorch\u001b[0m\u001b[0;34m.\u001b[0m\u001b[0m_C\u001b[0m\u001b[0;34m.\u001b[0m\u001b[0m_cuda_init\u001b[0m\u001b[0;34m(\u001b[0m\u001b[0;34m)\u001b[0m\u001b[0;34m\u001b[0m\u001b[0;34m\u001b[0m\u001b[0m\n\u001b[0m\u001b[1;32m    217\u001b[0m         \u001b[0;31m# Some of the queued calls may reentrantly call _lazy_init();\u001b[0m\u001b[0;34m\u001b[0m\u001b[0;34m\u001b[0m\u001b[0;34m\u001b[0m\u001b[0m\n\u001b[1;32m    218\u001b[0m         \u001b[0;31m# we need to just return without initializing in that case.\u001b[0m\u001b[0;34m\u001b[0m\u001b[0;34m\u001b[0m\u001b[0;34m\u001b[0m\u001b[0m\n",
      "\u001b[0;31mRuntimeError\u001b[0m: Found no NVIDIA driver on your system. Please check that you have an NVIDIA GPU and installed a driver from http://www.nvidia.com/Download/index.aspx"
     ]
    }
   ],
   "source": [
    "# Задайте архитектуры\n",
    "\n",
    "D = 10\n",
    "\n",
    "gen = nn.Sequential(\n",
    "    nn.Linear(D, IMG_SIZE**2),\n",
    "    nn.LeakyReLU(0.1),\n",
    "    nn.Linear(IMG_SIZE**2, IMG_SIZE**2),\n",
    "    nn.LeakyReLU(0.1),\n",
    "    nn.Linear(IMG_SIZE**2, 3 * IMG_SIZE**2),\n",
    "    nn.Tanh()\n",
    ").cuda()\n",
    "\n",
    "\n",
    "disc = nn.Sequential(\n",
    "    nn.Flatten(),\n",
    "    nn.Linear(3 * IMG_SIZE**2, 3 * IMG_SIZE**2),\n",
    "    nn.LeakyReLU(0.1),\n",
    "    nn.Linear(3 * IMG_SIZE**2, 3 * IMG_SIZE**2),\n",
    "    nn.LeakyReLU(0.1),\n",
    "    nn.Linear(3 * IMG_SIZE**2, 1),\n",
    "    nn.Sigmoid()\n",
    ").cuda()"
   ]
  },
  {
   "cell_type": "markdown",
   "metadata": {
    "id": "caYmi-_Fdk8D"
   },
   "source": [
    "3) Визуализация"
   ]
  },
  {
   "cell_type": "code",
   "execution_count": 18,
   "metadata": {},
   "outputs": [
    {
     "name": "stderr",
     "output_type": "stream",
     "text": [
      "websocket-client package not installed, only polling transport is available\n"
     ]
    },
    {
     "name": "stdout",
     "output_type": "stream",
     "text": [
      "my sid is 817TjR5y1G_SAT3LAAAK\n"
     ]
    }
   ],
   "source": [
    "import socketio\n",
    "\n",
    "# standard Python\n",
    "sio = socketio.Client()\n",
    "\n",
    "# asyncio\n",
    "# sio = socketio.AsyncClient()\n",
    "\n",
    "sio.connect('http://localhost:1303')\n",
    "print('my sid is', sio.sid)\n",
    "\n"
   ]
  },
  {
   "cell_type": "code",
   "execution_count": null,
   "metadata": {
    "execution": {
     "iopub.execute_input": "2022-03-11T19:05:14.441994Z",
     "iopub.status.busy": "2022-03-11T19:05:14.441744Z",
     "iopub.status.idle": "2022-03-11T19:05:14.449561Z",
     "shell.execute_reply": "2022-03-11T19:05:14.448923Z",
     "shell.execute_reply.started": "2022-03-11T19:05:14.441961Z"
    },
    "id": "E868vAX4YPR4"
   },
   "outputs": [],
   "source": [
    "# Для визуализации сгенерированных картинок во время обучения\n",
    "\n",
    "\n",
    "def plot_gen(generator):\n",
    "    '''\n",
    "    Рисует 20 сгенерированных картинок\n",
    "\n",
    "    Параметры:\n",
    "\n",
    "    generator - модель генератора, которая принимает шум размером (n, d) и возвращает сгенерированные картинки размером (n, 28, 28)\n",
    "    '''\n",
    "    plt.figure(figsize=(15, 3))\n",
    "\n",
    "    # Сгенерируйте 20 картинок\n",
    "\n",
    "    # код (шум для генератора размером (20, d), где d - длина вектора шума)\n",
    "    noise = torch.rand(20, D)\n",
    "    # print(noise)\n",
    "\n",
    "    # код (сгенерированные по шуму картинки)\n",
    "    gener = gen(noise.cuda())\n",
    "\n",
    "    # Рисуем 20 картинок\n",
    "    for i in range(1, 21):\n",
    "        # Выбираем i-й квадратик\n",
    "        plt.subplot(2, 10, i)\n",
    "        # Рисуем картинку\n",
    "        \n",
    "        sio.emit('update', )\n",
    "        plt.imshow(gener[i - 1].cpu().detach().numpy().reshape(3, IMG_SIZE, IMG_SIZE))\n",
    "        # Убираем координаты на осях\n",
    "        plt.xticks([])\n",
    "        plt.yticks([])\n",
    "\n",
    "    plt.show()"
   ]
  },
  {
   "cell_type": "code",
   "execution_count": null,
   "metadata": {
    "execution": {
     "iopub.execute_input": "2022-03-11T19:05:14.451329Z",
     "iopub.status.busy": "2022-03-11T19:05:14.450759Z",
     "iopub.status.idle": "2022-03-11T19:05:15.961049Z",
     "shell.execute_reply": "2022-03-11T19:05:15.95962Z",
     "shell.execute_reply.started": "2022-03-11T19:05:14.451291Z"
    },
    "id": "3Z60iRcylEVk",
    "outputId": "254bf90f-ef71-4498-9288-3008626d9b79"
   },
   "outputs": [],
   "source": [
    "plot_gen(gen)"
   ]
  },
  {
   "cell_type": "markdown",
   "metadata": {
    "id": "MURK6lIud_1f"
   },
   "source": [
    "### Обучение"
   ]
  },
  {
   "cell_type": "markdown",
   "metadata": {
    "id": "EQd_iJvjkIp3"
   },
   "source": [
    "![](https://developers.google.com/machine-learning/gan/images/gan_diagram.svg)"
   ]
  },
  {
   "cell_type": "markdown",
   "metadata": {
    "id": "Iq99SZ4FihXT"
   },
   "source": [
    "Цикл обучения будет абсолютно таким же как и в обычном классификаторе картинок, который вы писали. \n",
    "\n",
    "Для удобства, давайте разделим шаг обучения дискриминатора и шаг обучения генератора в две отдельные функции, которые будут вызываться друг за другом в цикле"
   ]
  },
  {
   "cell_type": "code",
   "execution_count": null,
   "metadata": {
    "execution": {
     "iopub.execute_input": "2022-03-11T19:05:15.962265Z",
     "iopub.status.busy": "2022-03-11T19:05:15.962048Z",
     "iopub.status.idle": "2022-03-11T19:05:15.972128Z",
     "shell.execute_reply": "2022-03-11T19:05:15.971213Z",
     "shell.execute_reply.started": "2022-03-11T19:05:15.962238Z"
    },
    "id": "3KnsVwSQeHoe",
    "outputId": "9bebeae6-ae9e-4f44-c4f7-89176000502f"
   },
   "outputs": [],
   "source": [
    "from torch.nn import BCELoss\n",
    "\n",
    "criterion = BCELoss()  # From now on error = criterion(pred, y)\n",
    "\n",
    "def discriminator_train_step(discriminator, generator, opt_d, x):\n",
    "    '''\n",
    "    Выполняет шаг обучения дискриминатора\n",
    "    1) Сгенерировать фейковые картинки\n",
    "    2) Получить предсказания дискриминатора для фейковых картинок\n",
    "    3) Получить предсказания дискриминатора для настоящих картинок\n",
    "    4) Посчитать лосс как среднее лосса на фейковых и на настоящих картинках\n",
    "    5) Обновить веса\n",
    "\n",
    "    Параметры:\n",
    "\n",
    "    discriminator - модель дискриминатора, которая принимает набор картинок размером (n, 28, 28) и возвращает вероятности что они фейковые (n, 1)\n",
    "    generator - модель генератора, которая принимает шум размером (n, d) и возвращает сгенерированные картинки размером (n, 28, 28)\n",
    "    optimizer_d - оптимизатор дискриминатора\n",
    "    '''\n",
    "\n",
    "    # D - noize size, N - number of images to generate (batch_size)\n",
    "\n",
    "    noise = torch.rand(N, D)\n",
    "    generated_images = generator(noise.cuda())\n",
    "\n",
    "    pred_fake = discriminator(generated_images)\n",
    "    pred_real = discriminator(x.cuda())\n",
    "\n",
    "    fake_loss, real_loss = criterion(pred_fake, torch.tensor([[1.]] * N).cuda()), criterion(pred_real, torch.tensor([[0.]] * len(x)).cuda())\n",
    "    # print(fake_loss, real_loss)\n",
    "    \n",
    "    opt_d.zero_grad()\n",
    "    loss = (fake_loss + real_loss) / 2\n",
    "    loss.backward()\n",
    "\n",
    "    opt_d.step()\n",
    "    opt_d.zero_grad()\n",
    "\n",
    "    return loss.item()\n"
   ]
  },
  {
   "cell_type": "markdown",
   "metadata": {
    "id": "nwIY-qgyfbsd"
   },
   "source": [
    "Напомню, что дискриминатор минимизирует бинарную кроссэнтропийную функцию потерь для фейковых и настоящих данных:\n",
    "\n",
    "$loss = \\frac{1}{2} \\Big(BCELoss(fake\\_images, 1) + BCELoss(true\\_images, 0)\\Big)$\n",
    "\n",
    "Тут $1$ и $0$ - векторы единиц и нулей соответствующей длины\n",
    "\n",
    "\n",
    "\n",
    "---\n",
    "\n"
   ]
  },
  {
   "cell_type": "code",
   "execution_count": null,
   "metadata": {
    "execution": {
     "iopub.execute_input": "2022-03-11T19:05:15.974116Z",
     "iopub.status.busy": "2022-03-11T19:05:15.973632Z",
     "iopub.status.idle": "2022-03-11T19:05:15.988522Z",
     "shell.execute_reply": "2022-03-11T19:05:15.987629Z",
     "shell.execute_reply.started": "2022-03-11T19:05:15.974077Z"
    },
    "id": "QYlUSWvPgQjU"
   },
   "outputs": [],
   "source": [
    "def generator_train_step(discriminator, generator, opt_g):\n",
    "    '''\n",
    "    Выполняет шаг обучения генератора\n",
    "    1) Сгенерировать фейковые картинки\n",
    "    2) Получить предсказания дискриминатора для фейковых картинок\n",
    "    4) Посчитать лосс как минус лосс дискриминатора на фейковых картинках\n",
    "    5) Обновить веса\n",
    "\n",
    "    Параметры:\n",
    "\n",
    "    discriminator - модель дискриминатора, которая принимает набор картинок размером (n, 28, 28) и возвращает вероятности что они фейковые (n, 1)\n",
    "    generator - модель генератора, которая принимает шум размером (n, d) и возвращает сгенерированные картинки размером (n, 28, 28)\n",
    "    optimizer_g - оптимизатор генератора\n",
    "    '''\n",
    "\n",
    "    noise = torch.rand(N, D)\n",
    "    generated_images = generator(noise.cuda())\n",
    "\n",
    "    pred_fake = discriminator(generated_images)\n",
    "\n",
    "    loss = -criterion(pred_fake, torch.tensor([[1.]] * N).cuda())\n",
    "    \n",
    "    opt_g.zero_grad()\n",
    "    loss.backward()\n",
    "\n",
    "    opt_g.step()\n",
    "    opt_g.zero_grad()\n",
    "\n",
    "    return -loss.item()\n"
   ]
  },
  {
   "cell_type": "markdown",
   "metadata": {
    "id": "D7PvitDbgUf7"
   },
   "source": [
    "Напомню, что генератор **максимизирует** бинарную кроссэнтропийную функцию потерь **дискриминатора** для фейковых данных:\n",
    "\n",
    "$loss = -BCELoss(fake\\_images, 1)$\n",
    "\n",
    "Тут $1$ - векторы единиц и нулей соответствующей длины\n",
    "\n",
    "По умолчанию лосс минимизируется, поэтому чтобы максимизировать функцию, нужно взять её с минусом. Подумайте, можно ли в данном случае обойтись без минуса? Поменять что-то другое?\n",
    "\n",
    "(вспомните что генератор хочет обманывать дискриминатор, меняя его предсказания на неправильные)\n",
    "\n",
    "\n",
    "\n",
    "\n",
    "---\n",
    "\n"
   ]
  },
  {
   "cell_type": "markdown",
   "metadata": {
    "id": "U2PkxTqGceBj"
   },
   "source": [
    "**Создайте оптимизаторы для сетей (для каждой сети свой оптимизатор)**"
   ]
  },
  {
   "cell_type": "code",
   "execution_count": null,
   "metadata": {
    "execution": {
     "iopub.execute_input": "2022-03-11T19:05:15.9904Z",
     "iopub.status.busy": "2022-03-11T19:05:15.990044Z",
     "iopub.status.idle": "2022-03-11T19:05:16.003611Z",
     "shell.execute_reply": "2022-03-11T19:05:16.002808Z",
     "shell.execute_reply.started": "2022-03-11T19:05:15.990355Z"
    },
    "id": "vJMnAKuLiXeO"
   },
   "outputs": [],
   "source": [
    "optimizer_d = optim.SGD(disc.parameters(), lr=1e-1)\n",
    "optimizer_g = optim.SGD(gen.parameters(), lr=1e-1)"
   ]
  },
  {
   "cell_type": "markdown",
   "metadata": {
    "id": "8ZldNAyrhc7L"
   },
   "source": [
    "**Напишите цикл обучения, как в обычных нейросетях:**\n",
    "- проход по эпохам\n",
    "  - проход по dataloader\n",
    "    - обучение генератора\n",
    "    - обучение дискриминатора\n",
    "  - рисование картинок:\n",
    "  ```python\n",
    "  clear_output(True) # очистка предыдущих картинок\n",
    "  plot_gen(gen) # рисование новых на том же месте\n",
    "  ```"
   ]
  },
  {
   "cell_type": "code",
   "execution_count": null,
   "metadata": {
    "execution": {
     "iopub.execute_input": "2022-03-11T19:05:16.006082Z",
     "iopub.status.busy": "2022-03-11T19:05:16.005741Z",
     "iopub.status.idle": "2022-03-11T19:43:06.964248Z",
     "shell.execute_reply": "2022-03-11T19:43:06.963519Z",
     "shell.execute_reply.started": "2022-03-11T19:05:16.006044Z"
    },
    "id": "xw-y_N0yG7Mm",
    "outputId": "435bc431-f793-461d-87d8-02e8c77848e3"
   },
   "outputs": [],
   "source": [
    "import matplotlib.pyplot as plt\n",
    "\n",
    "g_loss_graph = []\n",
    "d_loss_graph = []\n",
    "\n",
    "\n",
    "for epoch in range(200):\n",
    "    g_losses, d_losses = [], []\n",
    "\n",
    "    for x, y in train_loader:\n",
    "        g_loss = generator_train_step(disc, gen, optimizer_g)\n",
    "        d_loss = discriminator_train_step(disc, gen, optimizer_d, x)\n",
    "        \n",
    "        g_losses.append(g_loss)\n",
    "        d_losses.append(d_loss)\n",
    "\n",
    "    clear_output(True) # очистка предыдущих картинок\n",
    "    print(f\"Epoch number: {epoch}\")\n",
    "\n",
    "    d_loss = sum(d_losses) / len(d_losses)\n",
    "    g_loss = sum(g_losses) / len(g_losses)\n",
    "\n",
    "    print(f\"Discriminator loss: {d_loss}, Generator loss: {g_loss}\")\n",
    "    plot_gen(gen) # рисование новых на том же месте\n",
    "\n",
    "    g_loss_graph.append(g_loss)\n",
    "    d_loss_graph.append(d_loss)\n",
    "\n",
    "    plt.plot(g_loss_graph)\n",
    "    plt.ylabel('generator loss')\n",
    "    plt.show()\n",
    "\n",
    "    plt.plot(d_loss_graph)\n",
    "    plt.ylabel('discriminator loss')\n",
    "    plt.show()"
   ]
  },
  {
   "cell_type": "markdown",
   "metadata": {
    "id": "0-aT3QvejLdQ"
   },
   "source": [
    "### Визуализация результатов"
   ]
  },
  {
   "cell_type": "code",
   "execution_count": null,
   "metadata": {
    "execution": {
     "iopub.status.busy": "2022-03-11T19:03:17.792116Z",
     "iopub.status.idle": "2022-03-11T19:03:17.792744Z",
     "shell.execute_reply": "2022-03-11T19:03:17.792536Z",
     "shell.execute_reply.started": "2022-03-11T19:03:17.79251Z"
    },
    "id": "1BatJe2FjbjO"
   },
   "outputs": [],
   "source": [
    "plot_gen(gen)"
   ]
  },
  {
   "cell_type": "code",
   "execution_count": null,
   "metadata": {},
   "outputs": [],
   "source": []
  }
 ],
 "metadata": {
  "kernelspec": {
   "display_name": "Python 3",
   "language": "python",
   "name": "python3"
  },
  "language_info": {
   "codemirror_mode": {
    "name": "ipython",
    "version": 3
   },
   "file_extension": ".py",
   "mimetype": "text/x-python",
   "name": "python",
   "nbconvert_exporter": "python",
   "pygments_lexer": "ipython3",
   "version": "3.8.10"
  }
 },
 "nbformat": 4,
 "nbformat_minor": 4
}
